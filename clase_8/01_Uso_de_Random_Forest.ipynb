{
 "cells": [
  {
   "cell_type": "markdown",
   "metadata": {},
   "source": [
    "---\n",
    "title: \"Uso de random forests\"\n",
    "author: \"Roberto Muñoz\"\n",
    "date: \"01 December, 2017\"\n",
    "output:\n",
    "  github_document:\n",
    "    toc: true\n",
    "    toc_depth: 2\n",
    "    #number_sections: true\n",
    "---\n",
    "\n",
    "\n",
    "\n",
    "## Ajustamos el locale del sistema de acuerdo al OS del computador\n",
    "En caso de usar un Mac ejecute la siguiente linea"
   ]
  },
  {
   "cell_type": "code",
   "execution_count": 2,
   "metadata": {
    "collapsed": false
   },
   "outputs": [
    {
     "data": {
      "text/html": [
       "'en_US.UTF-8/en_US.UTF-8/en_US.UTF-8/C/en_US.UTF-8/en_US.UTF-8'"
      ],
      "text/latex": [
       "'en\\_US.UTF-8/en\\_US.UTF-8/en\\_US.UTF-8/C/en\\_US.UTF-8/en\\_US.UTF-8'"
      ],
      "text/markdown": [
       "'en_US.UTF-8/en_US.UTF-8/en_US.UTF-8/C/en_US.UTF-8/en_US.UTF-8'"
      ],
      "text/plain": [
       "[1] \"en_US.UTF-8/en_US.UTF-8/en_US.UTF-8/C/en_US.UTF-8/en_US.UTF-8\""
      ]
     },
     "metadata": {},
     "output_type": "display_data"
    }
   ],
   "source": [
    "Sys.setlocale(\"LC_ALL\", 'en_US.UTF-8')"
   ]
  },
  {
   "cell_type": "markdown",
   "metadata": {},
   "source": [
    "En caso de usar Windows ejecute la siguiente linea"
   ]
  },
  {
   "cell_type": "code",
   "execution_count": null,
   "metadata": {
    "collapsed": true
   },
   "outputs": [],
   "source": [
    "Sys.setlocale(\"LC_ALL\", 'Spanish_Chile.1252')"
   ]
  },
  {
   "cell_type": "markdown",
   "metadata": {},
   "source": [
    "## Creamos funcion para cargar facilmente librerías de R"
   ]
  },
  {
   "cell_type": "code",
   "execution_count": 3,
   "metadata": {
    "collapsed": false
   },
   "outputs": [],
   "source": [
    "install_load_library <- function(x){\n",
    "  for( i in x ){\n",
    "    if( ! require( i , character.only = TRUE ) ){\n",
    "      install.packages( i , dependencies = TRUE )\n",
    "      require( i , character.only = TRUE )\n",
    "    }\n",
    "  }\n",
    "}"
   ]
  },
  {
   "cell_type": "markdown",
   "metadata": {},
   "source": [
    "## Usaremos principalmente las librerias rpart y dplyr"
   ]
  },
  {
   "cell_type": "code",
   "execution_count": 4,
   "metadata": {
    "collapsed": false
   },
   "outputs": [
    {
     "name": "stderr",
     "output_type": "stream",
     "text": [
      "Loading required package: rpart\n",
      "Loading required package: dplyr\n",
      "\n",
      "Attaching package: ‘dplyr’\n",
      "\n",
      "The following objects are masked from ‘package:stats’:\n",
      "\n",
      "    filter, lag\n",
      "\n",
      "The following objects are masked from ‘package:base’:\n",
      "\n",
      "    intersect, setdiff, setequal, union\n",
      "\n",
      "Loading required package: rpart.plot\n"
     ]
    }
   ],
   "source": [
    "install_load_library( c('rpart','dplyr','rpart.plot') )"
   ]
  },
  {
   "cell_type": "markdown",
   "metadata": {},
   "source": [
    "## En caso de disponer de tiempo y una buena conexión a internet, podriamos instalar rattle"
   ]
  },
  {
   "cell_type": "code",
   "execution_count": null,
   "metadata": {
    "collapsed": true
   },
   "outputs": [],
   "source": [
    "#install_load_library( c('rattle','RColorBrewer') )"
   ]
  },
  {
   "cell_type": "markdown",
   "metadata": {},
   "source": [
    "# Cargamos los datasets de entrenamiento y evaluación"
   ]
  },
  {
   "cell_type": "code",
   "execution_count": null,
   "metadata": {
    "collapsed": true
   },
   "outputs": [],
   "source": [
    "titanic_train <- read.csv('https://github.com/rpmunoz/topicos_ingenieria_2/raw/master/clase_5/data/titanic_train.csv')\n",
    "View(titanic_train)"
   ]
  },
  {
   "cell_type": "code",
   "execution_count": null,
   "metadata": {
    "collapsed": true
   },
   "outputs": [],
   "source": [
    "titanic_test <- read.csv('https://github.com/rpmunoz/topicos_ingenieria_2/raw/master/clase_5/data/titanic_test.csv')\n",
    "View(titanic_test)"
   ]
  },
  {
   "cell_type": "markdown",
   "metadata": {},
   "source": [
    "# Veamos el nombre del primer registro"
   ]
  },
  {
   "cell_type": "code",
   "execution_count": null,
   "metadata": {
    "collapsed": true
   },
   "outputs": [],
   "source": [
    "titanic_train$Name[1]"
   ]
  },
  {
   "cell_type": "markdown",
   "metadata": {},
   "source": [
    "# Unamos el train y test dataset para hacer ingenieria de features"
   ]
  },
  {
   "cell_type": "code",
   "execution_count": null,
   "metadata": {
    "collapsed": true
   },
   "outputs": [],
   "source": [
    "titanic_test$Survived <- NA\n",
    "combi <- rbind(titanic_train, titanic_test)"
   ]
  },
  {
   "cell_type": "markdown",
   "metadata": {},
   "source": [
    "# Ingeniería de features títulos de saludo\n",
    "\n",
    "Crearemos el campo Title que contendrá el título de saludo de las personas. Usamos los comandos aprendidos anteriormente"
   ]
  },
  {
   "cell_type": "code",
   "execution_count": null,
   "metadata": {
    "collapsed": true
   },
   "outputs": [],
   "source": [
    "combi$Name <- as.character(combi$Name)\n",
    "combi$Title <- sapply(combi$Name, FUN=function(x) {strsplit(x, split='[,.]')[[1]][2]})\n",
    "combi$Title <- sub(' ', '', combi$Title)"
   ]
  },
  {
   "cell_type": "markdown",
   "metadata": {},
   "source": [
    "Dado que varios titulos son sinonimos, los agrupamos en uno solo"
   ]
  },
  {
   "cell_type": "code",
   "execution_count": null,
   "metadata": {
    "collapsed": true
   },
   "outputs": [],
   "source": [
    "combi$Title[combi$Title %in% c('Mme', 'Mlle')] <- 'Mlle'\n",
    "combi$Title[combi$Title %in% c('Capt', 'Don', 'Major', 'Sir')] <- 'Sir'\n",
    "combi$Title[combi$Title %in% c('Dona', 'Lady', 'the Countess', 'Jonkheer')] <- 'Lady'"
   ]
  },
  {
   "cell_type": "markdown",
   "metadata": {},
   "source": [
    "Transformamos el campo Title en factor"
   ]
  },
  {
   "cell_type": "code",
   "execution_count": null,
   "metadata": {
    "collapsed": true
   },
   "outputs": [],
   "source": [
    "combi$Title <- factor(combi$Title)"
   ]
  },
  {
   "cell_type": "markdown",
   "metadata": {},
   "source": [
    "# Ingeniería de features Family Size\n",
    "\n",
    "Hacemos ingenieria de features a partir de SibSp y Parch y creamos un nuevo campo para medir el tamaño de la familia. Este resultado lo almacenaremos en el campo FamilySize y creamos un nuevo campo llamado FamilyID"
   ]
  },
  {
   "cell_type": "code",
   "execution_count": null,
   "metadata": {
    "collapsed": true
   },
   "outputs": [],
   "source": [
    "combi$FamilySize <- combi$SibSp + combi$Parch + 1\n",
    "\n",
    "combi$Surname <- sapply(combi$Name, FUN=function(x) {strsplit(x, split='[,.]')[[1]][1]})\n",
    "combi$FamilyID <- paste(as.character(combi$FamilySize), combi$Surname, sep=\"\")"
   ]
  },
  {
   "cell_type": "markdown",
   "metadata": {},
   "source": [
    "Dado que existen algunos apellidos que tiene 1 o 2 miembros en la familia, es probable que se repitan muchos. Para estos casos reemplazamos el campo FamilyID con el valor Small"
   ]
  },
  {
   "cell_type": "code",
   "execution_count": null,
   "metadata": {
    "collapsed": true
   },
   "outputs": [],
   "source": [
    "combi$FamilyID[combi$FamilySize <= 2] <- 'Small'"
   ]
  },
  {
   "cell_type": "markdown",
   "metadata": {},
   "source": [
    "Vemos que existen algunos grupos familiares que aparecen solo una o dos veces en los datos. Volveremos a aplicar un corte y nos quedaremos solo con grupos familiares que tengan 3 o más miembros."
   ]
  },
  {
   "cell_type": "code",
   "execution_count": null,
   "metadata": {
    "collapsed": true
   },
   "outputs": [],
   "source": [
    "famIDs <- data.frame(table(combi$FamilyID))\n",
    "famIDs <- famIDs[famIDs$Freq <= 2,]"
   ]
  },
  {
   "cell_type": "markdown",
   "metadata": {},
   "source": [
    "Usaremos el campo Var1 del dataframe famIDs para eliminar las familias con 1 o dos miembros"
   ]
  },
  {
   "cell_type": "code",
   "execution_count": null,
   "metadata": {
    "collapsed": true
   },
   "outputs": [],
   "source": [
    "combi$FamilyID[combi$FamilyID %in% famIDs$Var1] <- 'Small'"
   ]
  },
  {
   "cell_type": "markdown",
   "metadata": {},
   "source": [
    "Convertimos el campo en factor"
   ]
  },
  {
   "cell_type": "code",
   "execution_count": null,
   "metadata": {
    "collapsed": true
   },
   "outputs": [],
   "source": [
    "combi$FamilyID <- factor(combi$FamilyID)"
   ]
  },
  {
   "cell_type": "markdown",
   "metadata": {},
   "source": [
    "# Limpieza y preparación de datos para Random Forest\n",
    "\n",
    "El algoritmo Random Forest de R tiene algunas restricciones respecto al input de datos que no están presentes en los árboles de decisión. El más importante corresponde a la limpieza de datos ausentes presente en los datasets.\n",
    "\n",
    "rpart (árboles de decisión) puede usar variables de reemplazo en caso de encontrar valores ausentes en ciertos campos. Para el dataset de Titanic tenemos muchos valores ausentes en el campo de la edad (age). Los árboles de decisión pueden lidiar con estos problemas, pues buscan variables que separan de manera similar a la edad y usan éstas para clasificar. Los Random forest no pueden hacer estos, así que debemos buscar una manera manual para remplazar estos valores.\n",
    "\n",
    "Usamos el comando summary para determinar cuántos valores NA existen"
   ]
  },
  {
   "cell_type": "code",
   "execution_count": null,
   "metadata": {
    "collapsed": true
   },
   "outputs": [],
   "source": [
    "summary(combi$Age)"
   ]
  },
  {
   "cell_type": "markdown",
   "metadata": {},
   "source": [
    "263 valores de 1309 están ausentes, es decir un 20%! \n",
    "\n",
    "Una posibilidad es usar un arbol de decisión para predecir la edad y usar el método anova para construir el modelo. Anteriormente habíamos usado el método \"class\" pues queríamos predecir una variable categórica. En este caso queremos predecir una variable continua, por lo cual usaremos \"anova\"."
   ]
  },
  {
   "cell_type": "code",
   "execution_count": null,
   "metadata": {
    "collapsed": true
   },
   "outputs": [],
   "source": [
    "Agefit <- rpart(Age ~ Pclass + Sex + SibSp + Parch + Fare + Embarked + Title + FamilySize, \n",
    "                data=combi[!is.na(combi$Age),], method=\"anova\")\n",
    "combi$Age[is.na(combi$Age)] <- predict(Agefit, combi[is.na(combi$Age),])\n",
    "View(combi)"
   ]
  },
  {
   "cell_type": "markdown",
   "metadata": {},
   "source": [
    "Inspeccionemos el dataframe combi y revisemo si todavía quedan valores ausentes."
   ]
  },
  {
   "cell_type": "code",
   "execution_count": null,
   "metadata": {
    "collapsed": true
   },
   "outputs": [],
   "source": [
    "summary(combi)"
   ]
  },
  {
   "cell_type": "markdown",
   "metadata": {},
   "source": [
    "Los campos Embarked y Fare contienen valores ausentes."
   ]
  },
  {
   "cell_type": "code",
   "execution_count": null,
   "metadata": {
    "collapsed": true
   },
   "outputs": [],
   "source": [
    "summary(combi$Embarked)"
   ]
  },
  {
   "cell_type": "markdown",
   "metadata": {},
   "source": [
    "Podemos notar que dos pasajeros tienen en blanco el campo Embarked. En estricto rigor, tener una clase que son espacios en blanco no representa un problema serio como contener valores NA, pero por consistencia los reemplazaremos.\n",
    "\n",
    "Una manera es reemplazar estos valores ausentes con la moda, el valor que más se repite. En este caso corresponde al puerto de Southampton abreviado con la letra S.\n",
    "\n",
    "Determinemos cuales IDs tienen los espacios en blanco"
   ]
  },
  {
   "cell_type": "code",
   "execution_count": null,
   "metadata": {
    "collapsed": true
   },
   "outputs": [],
   "source": [
    "which(combi$Embarked == '')"
   ]
  },
  {
   "cell_type": "markdown",
   "metadata": {},
   "source": [
    "Simplemente reemaplzamos estos dos registros con el valor \"S\" y transformamos el campo en factor"
   ]
  },
  {
   "cell_type": "code",
   "execution_count": null,
   "metadata": {
    "collapsed": true
   },
   "outputs": [],
   "source": [
    "combi$Embarked[c(62,830)] = \"S\"\n",
    "combi$Embarked <- factor(combi$Embarked)"
   ]
  },
  {
   "cell_type": "markdown",
   "metadata": {},
   "source": [
    "Revisemos el campo Fare"
   ]
  },
  {
   "cell_type": "code",
   "execution_count": null,
   "metadata": {
    "collapsed": true
   },
   "outputs": [],
   "source": [
    "summary(combi$Fare)"
   ]
  },
  {
   "cell_type": "markdown",
   "metadata": {},
   "source": [
    "Vemos que hay un solo pasajero sin valor de Fare. Veamos a cuál registro corresponde"
   ]
  },
  {
   "cell_type": "code",
   "execution_count": null,
   "metadata": {
    "collapsed": true
   },
   "outputs": [],
   "source": [
    "which(is.na(combi$Fare))"
   ]
  },
  {
   "cell_type": "markdown",
   "metadata": {},
   "source": [
    "Reemplazaremos este registro con la mediana del campo."
   ]
  },
  {
   "cell_type": "code",
   "execution_count": null,
   "metadata": {
    "collapsed": true
   },
   "outputs": [],
   "source": [
    "combi$Fare[1044] <- median(combi$Fare, na.rm=TRUE)"
   ]
  },
  {
   "cell_type": "markdown",
   "metadata": {},
   "source": [
    "Nuestro dataframe ya no contiene valores ausentes. Eso sí, enfrentamos una segunda restricción: Los random forest en R pueden digerir factores que tengan un máximo de 32 levels. El campo FamilyID tiene casi el doble de ese límite."
   ]
  },
  {
   "cell_type": "code",
   "execution_count": null,
   "metadata": {
    "collapsed": true
   },
   "outputs": [],
   "source": [
    "combi$FamilyID[1]"
   ]
  },
  {
   "cell_type": "markdown",
   "metadata": {},
   "source": [
    "Podríamos resolver este problema con diferentes metodologías. La primera sería cambiar los niveles a sus valores enteros respectivos (usando la función unclass()) y cosntruyendo un modelo que trate a este campo como una variable continua. La segunda sería reducir el número de levels por debajo del límite.\n",
    "\n",
    "Adoptemos la segunda solución. Compiaremos el campo FamilyID en una variable nueva, FamilyID2, y la convertiremos en un string usando la función as.character(). Probaremos incrementando el límite desde 2 a 3 mimebros para definir la familia como \"Small\""
   ]
  },
  {
   "cell_type": "code",
   "execution_count": null,
   "metadata": {
    "collapsed": true
   },
   "outputs": [],
   "source": [
    "# Creamos un campo FamilyID2, la cual reducirá el número de levels de FamilyID\n",
    "combi$FamilyID2 <- combi$FamilyID\n",
    "\n",
    "# Convertimos el campo en string\n",
    "combi$FamilyID2 <- as.character(combi$FamilyID2)\n",
    "combi$FamilyID2[combi$FamilySize <= 3] <- 'Small'\n",
    "\n",
    "# Convertimos de vuelta el campo en factor\n",
    "combi$FamilyID2 <- factor(combi$FamilyID2)\n",
    "combi$FamilyID2[1]"
   ]
  },
  {
   "cell_type": "markdown",
   "metadata": {},
   "source": [
    "Podemos ver que el campo FamilyID2 contiene ahora 22 levels.\n",
    "\n",
    "Volvemos a separar el dataset original entre train y test"
   ]
  },
  {
   "cell_type": "code",
   "execution_count": null,
   "metadata": {
    "collapsed": true
   },
   "outputs": [],
   "source": [
    "titanic_train <- combi[1:891,]\n",
    "titanic_test <- combi[892:1309,]"
   ]
  },
  {
   "cell_type": "markdown",
   "metadata": {},
   "source": [
    "# Creación del modelo usando Random Forest\n",
    "\n",
    "Cargamos la librería \"randomForest\" de R"
   ]
  },
  {
   "cell_type": "code",
   "execution_count": null,
   "metadata": {
    "collapsed": true
   },
   "outputs": [],
   "source": [
    "install_load_library( c('randomForest') )"
   ]
  },
  {
   "cell_type": "markdown",
   "metadata": {},
   "source": [
    "Dado que el proceso puede contener dos fuentes de aleatoriedad, es conveniente definir la semilla de R antes de crear el modeo. Así podemos volver a reproducir los mismos resultados."
   ]
  },
  {
   "cell_type": "code",
   "execution_count": null,
   "metadata": {
    "collapsed": true
   },
   "outputs": [],
   "source": [
    "set.seed(415)"
   ]
  },
  {
   "cell_type": "markdown",
   "metadata": {},
   "source": [
    "Ahora ya estamos en posición para crear nuestro modelo usando Random Forest. La sintaxis es similar a la que usamos para constuir los árboles de decisión\n",
    "\n",
    "Creamos un nuevo modelo y agregamos los nuevos features que creamos.\n",
    "Recuerden que el campo Survived indica si pasajero sobrevivió.\n",
    "0: No sobrevivió\n",
    "1: Sí sobrevivió"
   ]
  },
  {
   "cell_type": "code",
   "execution_count": null,
   "metadata": {
    "collapsed": true
   },
   "outputs": [],
   "source": [
    "fit <- randomForest(as.factor(Survived) ~ Pclass + Sex + Age + SibSp + Parch + Fare + Embarked + Title + FamilySize + FamilyID2, data=titanic_train, importance=TRUE, ntree=2000)"
   ]
  },
  {
   "cell_type": "markdown",
   "metadata": {},
   "source": [
    "En vez de especificar el método=\"class\" como lo hacíamos en rpart, en este caso forzamos la predicción de nuestra clasificación usando de manera temporal la variable Survived como factor.\n",
    "\n",
    "El parámetro importance=true permite revisar la importancia de cada variable en la construcción del modelo final. El argument ntree corresponde a cuántos árboles de decisión usaremos.\n",
    "\n",
    "En caso de trabajar con datasets más grandes, quizás quieras el número de árboles de decisión. También se puede reducir el número de variables a usar con el parámetro mtry, por defecto se usa la raíz cuadrada del número total de varibles y en general funciona bien.\n",
    "\n",
    "En este caso nuestro dataset es pequeño, así que podemos seguir aumentando el número de árboles y no preocuparnos por la complejidad del problema.\n",
    "\n",
    "Revisemos la importancia de las variables en la construcción del modelo"
   ]
  },
  {
   "cell_type": "code",
   "execution_count": null,
   "metadata": {
    "collapsed": true
   },
   "outputs": [],
   "source": [
    " varImpPlot(fit)"
   ]
  },
  {
   "cell_type": "markdown",
   "metadata": {},
   "source": [
    "En los gráficos de arriba se muestran la medición de las importancias. La medición de accuracy verifica cuán mal funciona el modelo al remover esta variable, de tal manera que una alta degradación del accuracy se esperaría para varialbes que resultan muy predictivas.\n",
    "\n",
    "La medición Gini permite revisar la matemática que detrás de los árboles de decisión. Esencialmente mide cuan puros son los nodos al final del árbol. Al igual que la medición anterior, verifica cuán mal funciona el modelo al remover esta variable y un score alto significa que la variable es muy importante.\n",
    "\n",
    "Quizás lo esperábamos, pero para variable Title aparece en el primer lugar de ambas mediciones. Vemos lo importante que fue hacer ingeniería de features, pues aparecen de las primeras. \n",
    "\n",
    "Creemos el directorio results en caso de no existir"
   ]
  },
  {
   "cell_type": "code",
   "execution_count": 7,
   "metadata": {
    "collapsed": false
   },
   "outputs": [
    {
     "data": {
      "text/html": [
       "FALSE"
      ],
      "text/latex": [
       "FALSE"
      ],
      "text/markdown": [
       "FALSE"
      ],
      "text/plain": [
       "[1] FALSE"
      ]
     },
     "metadata": {},
     "output_type": "display_data"
    }
   ],
   "source": [
    "ifelse(!dir.exists(\"results\"),dir.create(\"results\"), FALSE)"
   ]
  },
  {
   "cell_type": "markdown",
   "metadata": {},
   "source": [
    "Hagamos una predicción en base al modelo y subamoslo\n",
    "Grabaremos el resultado del modelo y lo subiremos a la página web de Kaggle\n",
    "https://www.kaggle.com/c/titanic/"
   ]
  },
  {
   "cell_type": "code",
   "execution_count": null,
   "metadata": {
    "collapsed": true
   },
   "outputs": [],
   "source": [
    "Prediction <- predict(fit, titanic_test)\n",
    "submit <- data.frame(PassengerId = titanic_test$PassengerId, Survived = Prediction)\n",
    "write.csv(submit, file = \"results/titanic_random_forest.csv\", row.names = FALSE)"
   ]
  },
  {
   "cell_type": "markdown",
   "metadata": {},
   "source": [
    "¿Cómo se compara el resultado con los obtenidos anteriormente?\n",
    "\n",
    "# Creación del modelo usando árcobles de inferencia condicional\n",
    "\n",
    "No nos rindamos con los random forest. Existen múltiples modelo ensamblados. Probemos un random forest que contenga árboles de inferencia condicional. Este método realiza la clasificación de una manera levemente distinta, usan test estadísitcos en vez de una medición de la pureza de las muestra.\n",
    "\n",
    "Cargamos la librería \"party\" de R"
   ]
  },
  {
   "cell_type": "code",
   "execution_count": null,
   "metadata": {
    "collapsed": true
   },
   "outputs": [],
   "source": [
    "install_load_library( c('party') )"
   ]
  },
  {
   "cell_type": "code",
   "execution_count": null,
   "metadata": {
    "collapsed": true
   },
   "outputs": [],
   "source": [
    "set.seed(415)\n",
    "fit <- cforest(as.factor(Survived) ~ Pclass + Sex + Age + SibSp + Parch + Fare +\n",
    "                                       Embarked + Title + FamilySize + FamilyID,\n",
    "                 data = titanic_train, \n",
    "                 controls=cforest_unbiased(ntree=2000, mtry=3))"
   ]
  },
  {
   "cell_type": "markdown",
   "metadata": {},
   "source": [
    "Los árboles de inferencia condicional son capaces de manejar factores con más levels que el algoritmo de Random Forest. Vemos que ahora debemos especificar el número de árboles usando un comando más complejo, dado que los comandos a la función cforest() se pasan de manera distitna. Aquí definimos que el número de variables a probar en cada nodo sea 3 (mtry=3).\n",
    "\n",
    "Hagamos una nueva predicción."
   ]
  },
  {
   "cell_type": "code",
   "execution_count": null,
   "metadata": {
    "collapsed": true
   },
   "outputs": [],
   "source": [
    "Prediction <- predict(fit, titanic_test, OOB=TRUE, type = \"response\")\n",
    "submit <- data.frame(PassengerId = titanic_test$PassengerId, Survived = Prediction)\n",
    "write.csv(submit, file = \"results/titanic_random_forest_conditional.csv\", row.names = FALSE)"
   ]
  }
 ],
 "metadata": {
  "kernelspec": {
   "display_name": "R",
   "language": "R",
   "name": "ir"
  },
  "language_info": {
   "codemirror_mode": "r",
   "file_extension": ".r",
   "mimetype": "text/x-r-source",
   "name": "R",
   "pygments_lexer": "r",
   "version": "3.3.3"
  }
 },
 "nbformat": 4,
 "nbformat_minor": 2
}
